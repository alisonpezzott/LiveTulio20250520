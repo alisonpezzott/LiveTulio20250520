{
 "cells": [
  {
   "cell_type": "code",
   "execution_count": null,
   "id": "da0d2a01",
   "metadata": {},
   "outputs": [],
   "source": [
    "# Config para CaseSensitive\n",
    "spark.conf.set('spark.sql.caseSensitive', True)"
   ]
  },
  {
   "cell_type": "code",
   "execution_count": null,
   "id": "41243ffa",
   "metadata": {},
   "outputs": [],
   "source": [
    "# Libraries\n",
    "from pyspark.sql.functions import col, expr, round as spark_round\n",
    "from pyspark.sql.types import StructType, StructField, StringType, IntegerType, DateType, DoubleType\n",
    "import requests, json\n",
    "from datetime import datetime\n",
    "from notebookutils import mssparkutils"
   ]
  },
  {
   "cell_type": "code",
   "execution_count": null,
   "id": "a02462f0",
   "metadata": {},
   "outputs": [],
   "source": [
    "%%sql\n",
    "CREATE TABLE Flag (\n",
    "    Flag STRING,\n",
    "    FlagID INTEGER\n",
    ") USING DELTA;\n",
    "\n",
    "INSERT INTO Flag (Flag, FlagID)\n",
    "VALUES \n",
    "    ('🡥 acima IPCA', 0),\n",
    "    ('🡧 abaixo IPCA', 1),\n",
    "    ('Primeira compra', 2);"
   ]
  },
  {
   "cell_type": "code",
   "execution_count": null,
   "id": "e777b7ee",
   "metadata": {},
   "outputs": [],
   "source": [
    "%%sql\n",
    "CREATE TABLE Medidas (\n",
    "    Value INTEGER\n",
    ") USING DELTA;"
   ]
  },
  {
   "cell_type": "markdown",
   "id": "bede6e73",
   "metadata": {},
   "source": [
    "### Get IPCA "
   ]
  },
  {
   "cell_type": "code",
   "execution_count": null,
   "id": "19929508",
   "metadata": {},
   "outputs": [],
   "source": [
    "# Datas\n",
    "start_date = \"01/01/2020\"\n",
    "end_date = datetime.today().strftime(\"%d/%m/%Y\")\n",
    "\n",
    "# API\n",
    "url = \"https://api.bcb.gov.br/dados/serie/bcdata.sgs.433/dados\"\n",
    "params = {\n",
    "    \"formato\": \"json\",\n",
    "    \"dataInicial\": start_date,\n",
    "    \"dataFinal\": end_date\n",
    "}\n",
    "\n",
    "# Requisição\n",
    "response = requests.get(url, params=params)\n",
    "json_data = response.json()\n",
    "\n",
    "# Serializar JSON para string\n",
    "json_str = json.dumps(json_data, ensure_ascii=False, indent=2)\n",
    "\n",
    "# Caminho do Lakehouse\n",
    "full_path = f\"Files/Raw/ipca.json\"\n",
    "\n",
    "# Escrever no Lakehouse\n",
    "mssparkutils.fs.put(full_path, json_str, overwrite=True)\n"
   ]
  },
  {
   "cell_type": "code",
   "execution_count": null,
   "id": "b2ae4ca2",
   "metadata": {},
   "outputs": [],
   "source": [
    "# Lê o JSON\n",
    "df = spark.read.option(\"multiline\", \"true\").json(\"Files/Raw/ipca.json\")\n",
    "display(df)"
   ]
  },
  {
   "cell_type": "code",
   "execution_count": null,
   "id": "16770c4c",
   "metadata": {},
   "outputs": [],
   "source": [
    "# Transformando\n",
    "df_transformado = df \\\n",
    "    .withColumn(\"Data\", expr(\"to_date(data, 'dd/MM/yyyy')\").cast(\"date\")) \\\n",
    "    .withColumn(\"VarMensal\", expr(\"valor * 0.01\").cast(\"double\")) \\\n",
    "    .withColumn(\"VarMensal\", spark_round(col(\"VarMensal\"), 4)) \\\n",
    "    .select(\"Data\", \"VarMensal\")\n",
    "\n",
    "# Exibindo\n",
    "df_transformado.show(10)\n",
    "\n",
    "# Salvando em delta\n",
    "df_transformado.write.mode(\"overwrite\").saveAsTable(\"IPCA\")"
   ]
  },
  {
   "cell_type": "markdown",
   "id": "c5b2bcbf",
   "metadata": {},
   "source": [
    "### Get Item"
   ]
  },
  {
   "cell_type": "code",
   "execution_count": null,
   "id": "45ef2f90",
   "metadata": {},
   "outputs": [],
   "source": [
    "url = \"https://raw.githubusercontent.com/alisonpezzott/preco-versus-ipca/refs/heads/main/dados/item.csv\"\n",
    "\n",
    "response = requests.get(url)\n",
    "with open(f\"/lakehouse/default/Files/Raw/item.csv\", 'wb') as f:\n",
    "    f.write(response.content)\n",
    "\n",
    "schema = StructType() \\\n",
    "    .add(\"ItemID\", IntegerType(), True) \\\n",
    "    .add(\"Item\", StringType(), True) \\\n",
    "\n",
    "df = spark.read.format(\"csv\") \\\n",
    "    .option(\"header\",\"true\") \\\n",
    "    .schema(schema) \\\n",
    "    .load(\"Files/Raw/item.csv\")\n",
    "\n",
    "df.write.mode(\"overwrite\") \\\n",
    "    .option(\"overwriteSchema\", \"true\") \\\n",
    "    .saveAsTable(\"Item\")"
   ]
  },
  {
   "cell_type": "markdown",
   "id": "129759f3",
   "metadata": {},
   "source": [
    "### Get Compras"
   ]
  },
  {
   "cell_type": "code",
   "execution_count": null,
   "id": "67e2d969",
   "metadata": {},
   "outputs": [],
   "source": [
    "url = \"https://raw.githubusercontent.com/alisonpezzott/preco-versus-ipca/refs/heads/main/dados/compras.csv\"\n",
    "\n",
    "response = requests.get(url)\n",
    "with open(f\"/lakehouse/default/Files/Raw/compras.csv\", 'wb') as f:\n",
    "    f.write(response.content)\n",
    "\n",
    "schema = StructType() \\\n",
    "    .add(\"PedidoID\", IntegerType(), True) \\\n",
    "    .add(\"DataPedido\", DateType(), True) \\\n",
    "    .add(\"ItemID\", IntegerType(), True) \\\n",
    "    .add(\"QtdPedido\", IntegerType(), True) \\\n",
    "    .add(\"PrecoUnitario\", DoubleType(), True)\n",
    "\n",
    "df = spark.read.format(\"csv\") \\\n",
    "    .option(\"header\",\"true\") \\\n",
    "    .schema(schema) \\\n",
    "    .load(\"Files/Raw/compras.csv\")\n",
    "\n",
    "df.write.mode(\"overwrite\") \\\n",
    "    .option(\"overwriteSchema\", \"true\") \\\n",
    "    .saveAsTable(\"Compras\")"
   ]
  }
 ],
 "metadata": {
  "language_info": {
   "name": "python"
  }
 },
 "nbformat": 4,
 "nbformat_minor": 5
}
